{
 "cells": [
  {
   "cell_type": "code",
   "execution_count": 1,
   "metadata": {},
   "outputs": [],
   "source": [
    "import os\n",
    "import matplotlib.pyplot as plt"
   ]
  },
  {
   "cell_type": "markdown",
   "metadata": {},
   "source": [
    "### Experiment 1"
   ]
  },
  {
   "cell_type": "code",
   "execution_count": 43,
   "metadata": {},
   "outputs": [
    {
     "name": "stdout",
     "output_type": "stream",
     "text": [
      "\\textsf{SumModel} & $\\mathcal{L}_{\\mathsf{total}}$ & $\\mathsf{0.1560}$ & $\\mathsf{0.1563}$ & $\\mathsf{0.1575}$ & $\\mathsf{0.1555}$ & $\\mathsf{0.1561}$ & $\\mathsf{0.1549}$ \\\\\n",
      "{} & $\\mathcal{L}_{\\mathsf{eng}}$ & $\\mathsf{0.0220}$ & $\\mathsf{0.0226}$ & $\\mathsf{0.0229}$ & $\\mathsf{0.0221}$ & $\\mathsf{0.0222}$ & $\\mathsf{0.0213}$ \\\\\n",
      "{} & $\\mathcal{L}_{\\mathsf{pos}}$ & $\\mathsf{0.2901}$ & $\\mathsf{0.2901}$ & $\\mathsf{0.2924}$ & $\\mathsf{0.2891}$ & $\\mathsf{0.2901}$ & $\\mathsf{0.2887}$ \\\\\n",
      "\\midrule\n",
      "\\textsf{LinearModel} & $\\mathcal{L}_{\\mathsf{total}}$ & $\\mathsf{0.0748}$ & $\\mathsf{0.0741}$ & $\\mathsf{0.0745}$ & $\\mathsf{0.0738}$ & $\\mathsf{0.0751}$ & $\\mathsf{0.0728}$ \\\\\n",
      "{} & $\\mathcal{L}_{\\mathsf{eng}}$ & $\\mathsf{0.0221}$ & $\\mathsf{0.0226}$ & $\\mathsf{0.0231}$ & $\\mathsf{0.0221}$ & $\\mathsf{0.0223}$ & $\\mathsf{0.0213}$ \\\\\n",
      "{} & $\\mathcal{L}_{\\mathsf{pos}}$ & $\\mathsf{0.1278}$ & $\\mathsf{0.1257}$ & $\\mathsf{0.1264}$ & $\\mathsf{0.1258}$ & $\\mathsf{0.1282}$ & $\\mathsf{0.1244}$ \\\\\n",
      "\\midrule\n",
      "\\textsf{MyResnet18} & $\\mathcal{L}_{\\mathsf{total}}$ & $\\mathsf{0.0707}$ & $\\mathsf{0.0248}$ & $\\mathsf{0.0254}$ & $\\mathsf{0.0823}$ & $\\mathsf{0.0271}$ & $\\mathsf{0.0926}$ \\\\\n",
      "{} & $\\mathcal{L}_{\\mathsf{eng}}$ & $\\mathsf{0.0565}$ & $\\mathsf{0.0215}$ & $\\mathsf{0.0215}$ & $\\mathsf{0.0705}$ & $\\mathsf{0.0207}$ & $\\mathsf{0.0814}$ \\\\\n",
      "{} & $\\mathcal{L}_{\\mathsf{pos}}$ & $\\mathsf{0.0851}$ & $\\mathsf{0.0284}$ & $\\mathsf{0.0297}$ & $\\mathsf{0.0941}$ & $\\mathsf{0.0336}$ & $\\mathsf{0.1042}$ \\\\\n",
      "\\midrule\n",
      "\\textsf{MyCNN} & $\\mathcal{L}_{\\mathsf{total}}$ & $\\mathsf{0.0260}$ & $\\mathsf{0.0682}$ & $\\mathsf{0.5922}$ & $\\mathsf{0.0240}$ & $\\mathsf{0.1326}$ & $\\mathsf{0.0229}$ \\\\\n",
      "{} & $\\mathcal{L}_{\\mathsf{eng}}$ & $\\mathsf{0.0197}$ & $\\mathsf{0.0201}$ & $\\mathsf{0.8934}$ & $\\mathsf{0.0200}$ & $\\mathsf{0.0196}$ & $\\mathsf{0.0197}$ \\\\\n",
      "{} & $\\mathcal{L}_{\\mathsf{pos}}$ & $\\mathsf{0.0324}$ & $\\mathsf{0.1166}$ & $\\mathsf{0.2912}$ & $\\mathsf{0.0281}$ & $\\mathsf{0.2462}$ & $\\mathsf{0.0262}$ \\\\\n",
      "\\midrule\n",
      "\\textsf{MyViT} & $\\mathcal{L}_{\\mathsf{total}}$ & $\\mathsf{0.0253}$ & $\\mathsf{0.0243}$ & $\\mathsf{0.0242}$ & $\\mathsf{0.0232}$ & $\\mathsf{0.0264}$ & $\\mathsf{0.0221}$ \\\\\n",
      "{} & $\\mathcal{L}_{\\mathsf{eng}}$ & $\\mathsf{0.0196}$ & $\\mathsf{0.0203}$ & $\\mathsf{0.0194}$ & $\\mathsf{0.0198}$ & $\\mathsf{0.0193}$ & $\\mathsf{0.0194}$ \\\\\n",
      "{} & $\\mathcal{L}_{\\mathsf{pos}}$ & $\\mathsf{0.0311}$ & $\\mathsf{0.0285}$ & $\\mathsf{0.0295}$ & $\\mathsf{0.0270}$ & $\\mathsf{0.0336}$ & $\\mathsf{0.0250}$ \\\\\n"
     ]
    }
   ],
   "source": [
    "''' latex format\n",
    "    \\textsf{Референсная модель} & $\\mathcal{L}_{total}$ & 0.4894 &   0.3775 &  0.4263 &     0.4824 &    0.3683 & 0 \\\\\n",
    "    {} & $\\mathcal{L}_{eng}$ & 0.4894 &   0.3775 &  0.4263 &     0.4824 &    0.3683 & 0 \\\\\n",
    "    {} & $\\mathcal{L}_{pos}$ & 0.4894 &   0.3775 &  0.4263 &     0.4824 &    0.3683 & 0 \\\\\n",
    "'''\n",
    "\n",
    "dir = \"raw/exp1\"\n",
    "paths = {\n",
    "    \"eng\": \"RMSE_E_eng.txt\",\n",
    "    \"pos\": \"RMSE_pos.txt\",\n",
    "    \"total\": \"val_total.txt\",\n",
    "}\n",
    "\n",
    "shapes = set()\n",
    "\n",
    "per_model = {}\n",
    "for loss, path in paths.items():\n",
    "    with open(os.path.join(dir, path), 'r') as f:\n",
    "        for line in f:\n",
    "            _, exp_name, value = line.strip().split()\n",
    "            _, model, shape = exp_name.split('_')\n",
    "            if model not in per_model:\n",
    "                per_model[model] = {}\n",
    "            if loss not in per_model[model]:\n",
    "                per_model[model][loss] = {}\n",
    "            per_model[model][loss][shape] = float(value)\n",
    "\n",
    "            shapes.add(shape)\n",
    "\n",
    "\n",
    "models = [\n",
    "    \"SumModel\",\n",
    "    \"LinearModel\",\n",
    "    \"MyResnet18\",\n",
    "    \"MyCNN\",\n",
    "    \"MyViT\",\n",
    "]\n",
    "\n",
    "for model in models:\n",
    "    data = per_model[model]\n",
    "    print(\"\\\\textsf{\", model, \"} & \", \"$\\mathcal{L}_{\\mathsf{total}}$\", sep='', end=' ')\n",
    "    for shape in shapes:\n",
    "        # print(f\"& {data['total'][shape]:0.4f}\", end=' ')\n",
    "        print(\"& \" \"$\\\\mathsf{\", f\"{data['total'][shape]:0.4f}\", \"}$\", sep='', end=' ')\n",
    "    print(\"\\\\\\\\\")\n",
    "    print(\"{} & $\\mathcal{L}_{\\mathsf{eng}}$\", end=' ')\n",
    "    for shape in shapes:\n",
    "        # print(f\"& {data['eng'][shape]:0.4f}\", end=' ')\n",
    "        print(\"& \" \"$\\\\mathsf{\", f\"{data['eng'][shape]:0.4f}\", \"}$\", sep='', end=' ')\n",
    "    print(\"\\\\\\\\\")\n",
    "    print(\"{} & $\\mathcal{L}_{\\mathsf{pos}}$\", end=' ')\n",
    "    for shape in shapes:\n",
    "        # print(f\"& {data['pos'][shape]:0.4f}\", end=' ')\n",
    "        print(\"& \" \"$\\\\mathsf{\", f\"{data['pos'][shape]:0.4f}\", \"}$\", sep='', end=' ')\n",
    "    print(\"\\\\\\\\\")\n",
    "    if model != models[-1]:\n",
    "        print(\"\\\\midrule\")"
   ]
  }
 ],
 "metadata": {
  "kernelspec": {
   "display_name": "ecal",
   "language": "python",
   "name": "python3"
  },
  "language_info": {
   "codemirror_mode": {
    "name": "ipython",
    "version": 3
   },
   "file_extension": ".py",
   "mimetype": "text/x-python",
   "name": "python",
   "nbconvert_exporter": "python",
   "pygments_lexer": "ipython3",
   "version": "3.10.13"
  }
 },
 "nbformat": 4,
 "nbformat_minor": 2
}
